{
  "nbformat": 4,
  "nbformat_minor": 0,
  "metadata": {
    "colab": {
      "provenance": []
    },
    "kernelspec": {
      "name": "python3",
      "display_name": "Python 3"
    },
    "language_info": {
      "name": "python"
    }
  },
  "cells": [
    {
      "cell_type": "code",
      "execution_count": 14,
      "metadata": {
        "id": "nYcfDACVPzs2"
      },
      "outputs": [],
      "source": [
        "import pandas as pd\n",
        "from google.colab import drive\n",
        "import matplotlib.pyplot as plt"
      ]
    },
    {
      "cell_type": "code",
      "source": [
        "drive.mount('/content/gdrive')"
      ],
      "metadata": {
        "colab": {
          "base_uri": "https://localhost:8080/"
        },
        "id": "_TlcANsaQFG-",
        "outputId": "f9c58054-10e5-436d-e898-4c5971016ad3"
      },
      "execution_count": 15,
      "outputs": [
        {
          "output_type": "stream",
          "name": "stdout",
          "text": [
            "Drive already mounted at /content/gdrive; to attempt to forcibly remount, call drive.mount(\"/content/gdrive\", force_remount=True).\n"
          ]
        }
      ]
    },
    {
      "cell_type": "code",
      "source": [
        "df = pd.read_excel('gdrive/MyDrive/W23 ML for Econ/430_Data_Cleaned.xlsx')\n",
        "df.head()"
      ],
      "metadata": {
        "colab": {
          "base_uri": "https://localhost:8080/",
          "height": 304
        },
        "id": "mAuJfeQTQTDj",
        "outputId": "69a9cf38-6700-41c7-d5bc-f4fbb0f1e5e7"
      },
      "execution_count": 22,
      "outputs": [
        {
          "output_type": "execute_result",
          "data": {
            "text/plain": [
              "               Country  life_expectancy  adult_mortality  infant_deaths  \\\n",
              "0          Afghanistan             59.5              272             69   \n",
              "1              Albania             76.9               86              0   \n",
              "2              Algeria             75.1              113             21   \n",
              "3               Angola             56.0              358             72   \n",
              "4  Antigua and Barbuda             75.9              134              0   \n",
              "\n",
              "   alcohol  percentage_expenditure  hepatitis_b   bmi  under_five_deaths  \\\n",
              "0     0.01               78.184215         67.0  17.6                 93   \n",
              "1     5.14              412.443356         99.0  55.8                  1   \n",
              "2     0.66              555.926083         95.0  56.1                 24   \n",
              "3     8.24              256.122524         75.0  21.5                110   \n",
              "4     8.18             2156.229842         98.0  45.7                  0   \n",
              "\n",
              "   polio  total_expenditure  diphtheria  hiv_aids           gdp  schooling  \n",
              "0     67               8.52          67       0.1    669.959000        9.8  \n",
              "1     99               5.59          99       0.1   4247.614380       14.2  \n",
              "2     95               6.14          95       0.1   5564.825660       14.4  \n",
              "3     75               3.30          75       2.6   4598.249988       10.3  \n",
              "4     97               5.39          98       0.2  12565.441970       13.8  "
            ],
            "text/html": [
              "\n",
              "  <div id=\"df-a26a7fda-2abe-4e5e-b38a-beee99f0014d\">\n",
              "    <div class=\"colab-df-container\">\n",
              "      <div>\n",
              "<style scoped>\n",
              "    .dataframe tbody tr th:only-of-type {\n",
              "        vertical-align: middle;\n",
              "    }\n",
              "\n",
              "    .dataframe tbody tr th {\n",
              "        vertical-align: top;\n",
              "    }\n",
              "\n",
              "    .dataframe thead th {\n",
              "        text-align: right;\n",
              "    }\n",
              "</style>\n",
              "<table border=\"1\" class=\"dataframe\">\n",
              "  <thead>\n",
              "    <tr style=\"text-align: right;\">\n",
              "      <th></th>\n",
              "      <th>Country</th>\n",
              "      <th>life_expectancy</th>\n",
              "      <th>adult_mortality</th>\n",
              "      <th>infant_deaths</th>\n",
              "      <th>alcohol</th>\n",
              "      <th>percentage_expenditure</th>\n",
              "      <th>hepatitis_b</th>\n",
              "      <th>bmi</th>\n",
              "      <th>under_five_deaths</th>\n",
              "      <th>polio</th>\n",
              "      <th>total_expenditure</th>\n",
              "      <th>diphtheria</th>\n",
              "      <th>hiv_aids</th>\n",
              "      <th>gdp</th>\n",
              "      <th>schooling</th>\n",
              "    </tr>\n",
              "  </thead>\n",
              "  <tbody>\n",
              "    <tr>\n",
              "      <th>0</th>\n",
              "      <td>Afghanistan</td>\n",
              "      <td>59.5</td>\n",
              "      <td>272</td>\n",
              "      <td>69</td>\n",
              "      <td>0.01</td>\n",
              "      <td>78.184215</td>\n",
              "      <td>67.0</td>\n",
              "      <td>17.6</td>\n",
              "      <td>93</td>\n",
              "      <td>67</td>\n",
              "      <td>8.52</td>\n",
              "      <td>67</td>\n",
              "      <td>0.1</td>\n",
              "      <td>669.959000</td>\n",
              "      <td>9.8</td>\n",
              "    </tr>\n",
              "    <tr>\n",
              "      <th>1</th>\n",
              "      <td>Albania</td>\n",
              "      <td>76.9</td>\n",
              "      <td>86</td>\n",
              "      <td>0</td>\n",
              "      <td>5.14</td>\n",
              "      <td>412.443356</td>\n",
              "      <td>99.0</td>\n",
              "      <td>55.8</td>\n",
              "      <td>1</td>\n",
              "      <td>99</td>\n",
              "      <td>5.59</td>\n",
              "      <td>99</td>\n",
              "      <td>0.1</td>\n",
              "      <td>4247.614380</td>\n",
              "      <td>14.2</td>\n",
              "    </tr>\n",
              "    <tr>\n",
              "      <th>2</th>\n",
              "      <td>Algeria</td>\n",
              "      <td>75.1</td>\n",
              "      <td>113</td>\n",
              "      <td>21</td>\n",
              "      <td>0.66</td>\n",
              "      <td>555.926083</td>\n",
              "      <td>95.0</td>\n",
              "      <td>56.1</td>\n",
              "      <td>24</td>\n",
              "      <td>95</td>\n",
              "      <td>6.14</td>\n",
              "      <td>95</td>\n",
              "      <td>0.1</td>\n",
              "      <td>5564.825660</td>\n",
              "      <td>14.4</td>\n",
              "    </tr>\n",
              "    <tr>\n",
              "      <th>3</th>\n",
              "      <td>Angola</td>\n",
              "      <td>56.0</td>\n",
              "      <td>358</td>\n",
              "      <td>72</td>\n",
              "      <td>8.24</td>\n",
              "      <td>256.122524</td>\n",
              "      <td>75.0</td>\n",
              "      <td>21.5</td>\n",
              "      <td>110</td>\n",
              "      <td>75</td>\n",
              "      <td>3.30</td>\n",
              "      <td>75</td>\n",
              "      <td>2.6</td>\n",
              "      <td>4598.249988</td>\n",
              "      <td>10.3</td>\n",
              "    </tr>\n",
              "    <tr>\n",
              "      <th>4</th>\n",
              "      <td>Antigua and Barbuda</td>\n",
              "      <td>75.9</td>\n",
              "      <td>134</td>\n",
              "      <td>0</td>\n",
              "      <td>8.18</td>\n",
              "      <td>2156.229842</td>\n",
              "      <td>98.0</td>\n",
              "      <td>45.7</td>\n",
              "      <td>0</td>\n",
              "      <td>97</td>\n",
              "      <td>5.39</td>\n",
              "      <td>98</td>\n",
              "      <td>0.2</td>\n",
              "      <td>12565.441970</td>\n",
              "      <td>13.8</td>\n",
              "    </tr>\n",
              "  </tbody>\n",
              "</table>\n",
              "</div>\n",
              "      <button class=\"colab-df-convert\" onclick=\"convertToInteractive('df-a26a7fda-2abe-4e5e-b38a-beee99f0014d')\"\n",
              "              title=\"Convert this dataframe to an interactive table.\"\n",
              "              style=\"display:none;\">\n",
              "        \n",
              "  <svg xmlns=\"http://www.w3.org/2000/svg\" height=\"24px\"viewBox=\"0 0 24 24\"\n",
              "       width=\"24px\">\n",
              "    <path d=\"M0 0h24v24H0V0z\" fill=\"none\"/>\n",
              "    <path d=\"M18.56 5.44l.94 2.06.94-2.06 2.06-.94-2.06-.94-.94-2.06-.94 2.06-2.06.94zm-11 1L8.5 8.5l.94-2.06 2.06-.94-2.06-.94L8.5 2.5l-.94 2.06-2.06.94zm10 10l.94 2.06.94-2.06 2.06-.94-2.06-.94-.94-2.06-.94 2.06-2.06.94z\"/><path d=\"M17.41 7.96l-1.37-1.37c-.4-.4-.92-.59-1.43-.59-.52 0-1.04.2-1.43.59L10.3 9.45l-7.72 7.72c-.78.78-.78 2.05 0 2.83L4 21.41c.39.39.9.59 1.41.59.51 0 1.02-.2 1.41-.59l7.78-7.78 2.81-2.81c.8-.78.8-2.07 0-2.86zM5.41 20L4 18.59l7.72-7.72 1.47 1.35L5.41 20z\"/>\n",
              "  </svg>\n",
              "      </button>\n",
              "      \n",
              "  <style>\n",
              "    .colab-df-container {\n",
              "      display:flex;\n",
              "      flex-wrap:wrap;\n",
              "      gap: 12px;\n",
              "    }\n",
              "\n",
              "    .colab-df-convert {\n",
              "      background-color: #E8F0FE;\n",
              "      border: none;\n",
              "      border-radius: 50%;\n",
              "      cursor: pointer;\n",
              "      display: none;\n",
              "      fill: #1967D2;\n",
              "      height: 32px;\n",
              "      padding: 0 0 0 0;\n",
              "      width: 32px;\n",
              "    }\n",
              "\n",
              "    .colab-df-convert:hover {\n",
              "      background-color: #E2EBFA;\n",
              "      box-shadow: 0px 1px 2px rgba(60, 64, 67, 0.3), 0px 1px 3px 1px rgba(60, 64, 67, 0.15);\n",
              "      fill: #174EA6;\n",
              "    }\n",
              "\n",
              "    [theme=dark] .colab-df-convert {\n",
              "      background-color: #3B4455;\n",
              "      fill: #D2E3FC;\n",
              "    }\n",
              "\n",
              "    [theme=dark] .colab-df-convert:hover {\n",
              "      background-color: #434B5C;\n",
              "      box-shadow: 0px 1px 3px 1px rgba(0, 0, 0, 0.15);\n",
              "      filter: drop-shadow(0px 1px 2px rgba(0, 0, 0, 0.3));\n",
              "      fill: #FFFFFF;\n",
              "    }\n",
              "  </style>\n",
              "\n",
              "      <script>\n",
              "        const buttonEl =\n",
              "          document.querySelector('#df-a26a7fda-2abe-4e5e-b38a-beee99f0014d button.colab-df-convert');\n",
              "        buttonEl.style.display =\n",
              "          google.colab.kernel.accessAllowed ? 'block' : 'none';\n",
              "\n",
              "        async function convertToInteractive(key) {\n",
              "          const element = document.querySelector('#df-a26a7fda-2abe-4e5e-b38a-beee99f0014d');\n",
              "          const dataTable =\n",
              "            await google.colab.kernel.invokeFunction('convertToInteractive',\n",
              "                                                     [key], {});\n",
              "          if (!dataTable) return;\n",
              "\n",
              "          const docLinkHtml = 'Like what you see? Visit the ' +\n",
              "            '<a target=\"_blank\" href=https://colab.research.google.com/notebooks/data_table.ipynb>data table notebook</a>'\n",
              "            + ' to learn more about interactive tables.';\n",
              "          element.innerHTML = '';\n",
              "          dataTable['output_type'] = 'display_data';\n",
              "          await google.colab.output.renderOutput(dataTable, element);\n",
              "          const docLink = document.createElement('div');\n",
              "          docLink.innerHTML = docLinkHtml;\n",
              "          element.appendChild(docLink);\n",
              "        }\n",
              "      </script>\n",
              "    </div>\n",
              "  </div>\n",
              "  "
            ]
          },
          "metadata": {},
          "execution_count": 22
        }
      ]
    },
    {
      "cell_type": "code",
      "source": [
        "plt.hist(df['life_expectancy'])\n",
        "plt.title('Distribution of Cointry Level Life Expectancy')\n",
        "plt.xlabel('Life Expectancy')\n",
        "plt.ylabel('Count')"
      ],
      "metadata": {
        "colab": {
          "base_uri": "https://localhost:8080/",
          "height": 313
        },
        "id": "yMnUYU4KRTKd",
        "outputId": "a9fed502-5853-4eea-e260-e8361bb23449"
      },
      "execution_count": 24,
      "outputs": [
        {
          "output_type": "execute_result",
          "data": {
            "text/plain": [
              "Text(0, 0.5, 'Count')"
            ]
          },
          "metadata": {},
          "execution_count": 24
        },
        {
          "output_type": "display_data",
          "data": {
            "text/plain": [
              "<Figure size 432x288 with 1 Axes>"
            ],
            "image/png": "[encoded data removed]"
          },
          "metadata": {
            "needs_background": "light"
          }
        }
      ]
    },
    {
      "cell_type": "markdown",
      "source": [
        "There is a strong cluster of countries with life expectancies around 75 years."
      ],
      "metadata": {
        "id": "2n9KFqyrR4eD"
      }
    }
  ]
}